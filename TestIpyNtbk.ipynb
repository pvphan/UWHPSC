{
 "metadata": {
  "name": "",
  "signature": "sha256:075df26d2b78971694448f725b573e2bcacfac96ee70169f479c39ec423c1d0c"
 },
 "nbformat": 3,
 "nbformat_minor": 0,
 "worksheets": [
  {
   "cells": [
    {
     "cell_type": "code",
     "collapsed": false,
     "input": [
      "pwd"
     ],
     "language": "python",
     "metadata": {},
     "outputs": [
      {
       "metadata": {},
       "output_type": "pyout",
       "prompt_number": 1,
       "text": [
        "u'/home/vinh/Copy/Class/CERA-HPSC/UWHPSC'"
       ]
      }
     ],
     "prompt_number": 1
    },
    {
     "cell_type": "code",
     "collapsed": false,
     "input": [
      "run mysqrt.py"
     ],
     "language": "python",
     "metadata": {},
     "outputs": [
      {
       "output_type": "stream",
       "stream": "stdout",
       "text": [
        "Running tests...\n",
        "Testing with x = 0.000000000000000e+00\n",
        "\ts = 0.000000000000000e+00, numpy.sqrt = 0.000000000000000e+00\n",
        "Testing with x = 2.000000000000000e+00\n",
        "\ts = 1.414213562373095e+00, numpy.sqrt = 1.414213562373095e+00\n",
        "Testing with x = 1.000000000000000e+02\n",
        "\ts = 1.000000000000000e+01, numpy.sqrt = 1.000000000000000e+01\n",
        "Testing with x = 1.000000000000000e+04\n",
        "\ts = 1.000000000000000e+02, numpy.sqrt = 1.000000000000000e+02\n",
        "Testing with x = 1.000000000000000e-04\n",
        "\ts = 1.000000000000000e-02, numpy.sqrt = 1.000000000000000e-02\n"
       ]
      }
     ],
     "prompt_number": 3
    },
    {
     "cell_type": "code",
     "collapsed": false,
     "input": [
      "import mysqrt"
     ],
     "language": "python",
     "metadata": {},
     "outputs": [],
     "prompt_number": 4
    },
    {
     "cell_type": "code",
     "collapsed": false,
     "input": [
      "mysqrt.__name__"
     ],
     "language": "python",
     "metadata": {},
     "outputs": [
      {
       "metadata": {},
       "output_type": "pyout",
       "prompt_number": 5,
       "text": [
        "'mysqrt'"
       ]
      }
     ],
     "prompt_number": 5
    },
    {
     "cell_type": "code",
     "collapsed": false,
     "input": [],
     "language": "python",
     "metadata": {},
     "outputs": []
    }
   ],
   "metadata": {}
  }
 ]
}